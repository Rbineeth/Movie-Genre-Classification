{
 "cells": [
  {
   "cell_type": "code",
   "execution_count": 1,
   "id": "eea39431-bf6c-4df7-a7ed-27b7b0ddb430",
   "metadata": {},
   "outputs": [],
   "source": [
    "import numpy as np\n",
    "import pandas as pd\n",
    "import matplotlib.pyplot as plt\n",
    "import seaborn as sns\n",
    "from sklearn.model_selection import train_test_split"
   ]
  },
  {
   "cell_type": "code",
   "execution_count": 2,
   "id": "53b7895b-42cf-424b-b2f7-bb45bcdacf6c",
   "metadata": {},
   "outputs": [],
   "source": [
    "df = pd.read_csv(r\"C:\\Users\\USER\\Desktop\\ML\\afinal\\Capstone Project\\Capstone Project\\movie_data.csv\")"
   ]
  },
  {
   "cell_type": "code",
   "execution_count": 3,
   "id": "e27647fc-7450-4a7d-a682-5def2c0ac926",
   "metadata": {},
   "outputs": [
    {
     "data": {
      "text/html": [
       "<div>\n",
       "<style scoped>\n",
       "    .dataframe tbody tr th:only-of-type {\n",
       "        vertical-align: middle;\n",
       "    }\n",
       "\n",
       "    .dataframe tbody tr th {\n",
       "        vertical-align: top;\n",
       "    }\n",
       "\n",
       "    .dataframe thead th {\n",
       "        text-align: right;\n",
       "    }\n",
       "</style>\n",
       "<table border=\"1\" class=\"dataframe\">\n",
       "  <thead>\n",
       "    <tr style=\"text-align: right;\">\n",
       "      <th></th>\n",
       "      <th>review</th>\n",
       "      <th>sentiment</th>\n",
       "    </tr>\n",
       "  </thead>\n",
       "  <tbody>\n",
       "    <tr>\n",
       "      <th>0</th>\n",
       "      <td>This movie is just crap. Even though the direc...</td>\n",
       "      <td>0</td>\n",
       "    </tr>\n",
       "    <tr>\n",
       "      <th>1</th>\n",
       "      <td>Another detailed work on the subject by Dr Dwi...</td>\n",
       "      <td>1</td>\n",
       "    </tr>\n",
       "    <tr>\n",
       "      <th>2</th>\n",
       "      <td>THE CAT O'NINE TAILS (Il Gatto a Nove Code) &lt;b...</td>\n",
       "      <td>0</td>\n",
       "    </tr>\n",
       "    <tr>\n",
       "      <th>3</th>\n",
       "      <td>Like with any movie genre, there are good gang...</td>\n",
       "      <td>0</td>\n",
       "    </tr>\n",
       "    <tr>\n",
       "      <th>4</th>\n",
       "      <td>I watched it with my mom and we were like...&lt;b...</td>\n",
       "      <td>0</td>\n",
       "    </tr>\n",
       "  </tbody>\n",
       "</table>\n",
       "</div>"
      ],
      "text/plain": [
       "                                              review  sentiment\n",
       "0  This movie is just crap. Even though the direc...          0\n",
       "1  Another detailed work on the subject by Dr Dwi...          1\n",
       "2  THE CAT O'NINE TAILS (Il Gatto a Nove Code) <b...          0\n",
       "3  Like with any movie genre, there are good gang...          0\n",
       "4  I watched it with my mom and we were like...<b...          0"
      ]
     },
     "execution_count": 3,
     "metadata": {},
     "output_type": "execute_result"
    }
   ],
   "source": [
    "df.head()"
   ]
  },
  {
   "cell_type": "code",
   "execution_count": 7,
   "id": "5366ef7f-1de0-4792-9f17-02d6710bc94c",
   "metadata": {},
   "outputs": [
    {
     "name": "stdout",
     "output_type": "stream",
     "text": [
      "<class 'pandas.core.frame.DataFrame'>\n",
      "RangeIndex: 49969 entries, 0 to 49968\n",
      "Data columns (total 2 columns):\n",
      " #   Column     Non-Null Count  Dtype \n",
      "---  ------     --------------  ----- \n",
      " 0   review     49969 non-null  object\n",
      " 1   sentiment  49969 non-null  int64 \n",
      "dtypes: int64(1), object(1)\n",
      "memory usage: 780.9+ KB\n"
     ]
    }
   ],
   "source": [
    "df.info()"
   ]
  },
  {
   "cell_type": "code",
   "execution_count": 9,
   "id": "cb83c3b1-f72f-429f-9105-c8e8d71bdd46",
   "metadata": {},
   "outputs": [
    {
     "data": {
      "text/html": [
       "<div>\n",
       "<style scoped>\n",
       "    .dataframe tbody tr th:only-of-type {\n",
       "        vertical-align: middle;\n",
       "    }\n",
       "\n",
       "    .dataframe tbody tr th {\n",
       "        vertical-align: top;\n",
       "    }\n",
       "\n",
       "    .dataframe thead th {\n",
       "        text-align: right;\n",
       "    }\n",
       "</style>\n",
       "<table border=\"1\" class=\"dataframe\">\n",
       "  <thead>\n",
       "    <tr style=\"text-align: right;\">\n",
       "      <th></th>\n",
       "      <th>sentiment</th>\n",
       "    </tr>\n",
       "  </thead>\n",
       "  <tbody>\n",
       "    <tr>\n",
       "      <th>count</th>\n",
       "      <td>49969.000000</td>\n",
       "    </tr>\n",
       "    <tr>\n",
       "      <th>mean</th>\n",
       "      <td>0.499950</td>\n",
       "    </tr>\n",
       "    <tr>\n",
       "      <th>std</th>\n",
       "      <td>0.500005</td>\n",
       "    </tr>\n",
       "    <tr>\n",
       "      <th>min</th>\n",
       "      <td>0.000000</td>\n",
       "    </tr>\n",
       "    <tr>\n",
       "      <th>25%</th>\n",
       "      <td>0.000000</td>\n",
       "    </tr>\n",
       "    <tr>\n",
       "      <th>50%</th>\n",
       "      <td>0.000000</td>\n",
       "    </tr>\n",
       "    <tr>\n",
       "      <th>75%</th>\n",
       "      <td>1.000000</td>\n",
       "    </tr>\n",
       "    <tr>\n",
       "      <th>max</th>\n",
       "      <td>1.000000</td>\n",
       "    </tr>\n",
       "  </tbody>\n",
       "</table>\n",
       "</div>"
      ],
      "text/plain": [
       "          sentiment\n",
       "count  49969.000000\n",
       "mean       0.499950\n",
       "std        0.500005\n",
       "min        0.000000\n",
       "25%        0.000000\n",
       "50%        0.000000\n",
       "75%        1.000000\n",
       "max        1.000000"
      ]
     },
     "execution_count": 9,
     "metadata": {},
     "output_type": "execute_result"
    }
   ],
   "source": [
    "df.describe()"
   ]
  },
  {
   "cell_type": "code",
   "execution_count": 11,
   "id": "1fad8e55-7c19-4b52-aabd-88285e18b0f2",
   "metadata": {},
   "outputs": [
    {
     "data": {
      "image/png": "[encoded data removed]",
      "text/plain": [
       "<Figure size 500x300 with 1 Axes>"
      ]
     },
     "metadata": {},
     "output_type": "display_data"
    },
    {
     "data": {
      "image/png": "[encoded data removed]",
      "text/plain": [
       "<Figure size 640x480 with 1 Axes>"
      ]
     },
     "metadata": {},
     "output_type": "display_data"
    }
   ],
   "source": [
    "plt.figure(figsize = (5,3))\n",
    "sns.countplot(y = df['sentiment'])\n",
    "plt.show()\n",
    "plt.pie(df['sentiment'].value_counts(), labels = ['sentiment','count'], autopct = '0%.2f')\n",
    "plt.show()"
   ]
  },
  {
   "cell_type": "code",
   "execution_count": 13,
   "id": "62860a1d-901e-4c0c-8faa-f346d08e384a",
   "metadata": {},
   "outputs": [
    {
     "name": "stdout",
     "output_type": "stream",
     "text": [
      "Requirement already satisfied: nltk in c:\\users\\user\\anaconda3\\lib\\site-packages (3.8.1)\n",
      "Requirement already satisfied: click in c:\\users\\user\\anaconda3\\lib\\site-packages (from nltk) (8.1.7)\n",
      "Requirement already satisfied: joblib in c:\\users\\user\\anaconda3\\lib\\site-packages (from nltk) (1.4.2)\n",
      "Requirement already satisfied: regex>=2021.8.3 in c:\\users\\user\\anaconda3\\lib\\site-packages (from nltk) (2023.10.3)\n",
      "Requirement already satisfied: tqdm in c:\\users\\user\\anaconda3\\lib\\site-packages (from nltk) (4.66.4)\n",
      "Requirement already satisfied: colorama in c:\\users\\user\\anaconda3\\lib\\site-packages (from click->nltk) (0.4.6)\n"
     ]
    }
   ],
   "source": [
    "!pip install nltk"
   ]
  },
  {
   "cell_type": "code",
   "execution_count": 14,
   "id": "80b67faf-5962-47d3-8f1a-9e99d7524eee",
   "metadata": {},
   "outputs": [
    {
     "name": "stderr",
     "output_type": "stream",
     "text": [
      "[nltk_data] Downloading package stopwords to\n",
      "[nltk_data]     C:\\Users\\USER\\AppData\\Roaming\\nltk_data...\n",
      "[nltk_data]   Package stopwords is already up-to-date!\n",
      "[nltk_data] Downloading package wordnet to\n",
      "[nltk_data]     C:\\Users\\USER\\AppData\\Roaming\\nltk_data...\n",
      "[nltk_data]   Package wordnet is already up-to-date!\n"
     ]
    },
    {
     "data": {
      "text/plain": [
       "True"
      ]
     },
     "execution_count": 14,
     "metadata": {},
     "output_type": "execute_result"
    }
   ],
   "source": [
    "import nltk\n",
    "nltk.download('stopwords')\n",
    "nltk.download('wordnet')"
   ]
  },
  {
   "cell_type": "code",
   "execution_count": 13,
   "id": "361f0977-8fe5-4be2-81f8-5df7523aa190",
   "metadata": {},
   "outputs": [],
   "source": [
    "from nltk.corpus import stopwords\n",
    "from nltk.stem import WordNetLemmatizer\n"
   ]
  },
  {
   "cell_type": "code",
   "execution_count": 14,
   "id": "c814e35d-5146-4e54-b5dc-c2ba86b8d04f",
   "metadata": {},
   "outputs": [],
   "source": [
    "def preprocess(sentence):\n",
    "    text  = re.sub(r'[^0-9a-zA-Z]', \"\", sentence).split()\n",
    "    words = [x.lower() for x in text if x not in stopwords.words('english')]\n",
    "    word = [lemma.lemmatize(word,'v') for word in words]\n",
    "    word = join(word)\n",
    "    return word"
   ]
  },
  {
   "cell_type": "code",
   "execution_count": 15,
   "id": "69a2ee00-dbea-4a55-82a4-801a4459a973",
   "metadata": {},
   "outputs": [
    {
     "name": "stdout",
     "output_type": "stream",
     "text": [
      "This movie is just crap. Even though the directors claim to be part of that oi-culture, it's still a very, very bad directorial debut. The topic itself is very interesting and I accept the bad acting due to the fact, that they are all amateurs and never acted before, but the worst thing about this film are the dialogs and very unexperienced and naive directing. There's no timing at all in that movie. I felt like the directors were so exited to do that movie (it's their first feature), that they actually never really asked themselves, what story they wanna tell. I met Ben (one of the directors) on several occasions and he's a nice and thoughtful guy, but that doesn't make him a director. I think, that \"American History X\" is full of clichÃ©s, but somehow manages to transport a story. \"Oi!Warning\" is full of clichÃ©s, doesn't tell anything new or provocative and (-that's the sad thing about this movie) it's far from any Oi!-Reality.<br /><br />If you wanna see weird but great German films, watch the movies of Michael Haneke, Christoph Schlingensief, Oskar Roehler, Hans Weingartner or Oliver Hirschbiegel:<br /><br />Benny's Video Funny Games Die UnberÃ¼hrbare Mein Letzter Film Das Experiment Das Weisse Rauschen MuxmÃ¤uschenstill ...<br /><br />*** out of ten, because of the topic and the photography\n",
      "\n",
      "Another detailed work on the subject by Dr Dwivedi takes us back in time to pre-partioned Panjab. Dr Dwivedi chose a difficult subject for his movie debut. He has worked on all meticulous details to bring the story to life. The treatment of the subject is very delicate.<br /><br />Even though we have not been to the region during that time, the sets and costumes look real. Unlike most movies made on partition, this one focuses not on the gory details of violence to attract audience, but on its after-effects. The characters come to life. Priyanshu Chatterjee has given an impressive performance. Manoj Bajpai has acted his heart out showing the plight of a guilt-ridden man. The rest of the cast has done a good job too.\n",
      "\n",
      "THE CAT O'NINE TAILS (Il Gatto a Nove Code) <br /><br />Aspect ratio: 2.35:1 (Cromoscope)<br /><br />Sound format: Mono<br /><br />(35mm and 70mm release prints)<br /><br />A blind ex-journalist (Karl Malden) overhears a blackmail plot outside a genetics research laboratory and later teams up with a fellow reporter (James Franciscus) to investigate a series of murders at the lab, unwittingly placing their own loved ones at the mercy of a psychopathic killer.<br /><br />Rushed into production following the unexpected worldwide success of his directorial debut THE BIRD WITH THE CRYSTAL PLUMAGE (1969), Dario Argento conceived THE CAT O'NINE TAILS as a giallo-thriller in much the same vein as its forerunner, toplining celebrated Hollywood actor Karl Malden - fresh from his appearance in PATTON (1969) - and rising star Franciscus (THE VALLEY OF GWANGI). Sadly, the resulting film - which the ads claimed was 'nine times more suspenseful' than \"Bird\" - is a disappointing follow-up, impeccably photographed and stylishly executed, but too plodding and aimless for general consumption.<br /><br />Malden and Franciscus are eminently watchable in sympathetic roles, and cinematographer Enrico Menczer (THE DEAD ARE ALIVE) uses the wide Cromoscope frame to convey the hi-tech world in which Argento's dark-hearted scenario unfolds, but the subplot involving Euro starlet Catherine Spaak (THE LIBERTINE) as Franciscus' romantic interest amounts to little more than unnecessary padding. Highlights include an unforgettable encounter with the black-gloved assassin in a crowded railway station (edited with sleek assurance by cult movie stalwart Franco Fraticelli), and a nocturnal episode in which Malden and Franciscus seek an important clue inside a mouldering tomb and fall prey to the killer's devious machinations. But despite these flashes of brilliance, the film rambles aimlessly from one scene to the next, simmering gently without ever really coming to the boil. It's no surprise that \"Cat\" failed to emulate the runaway success of \"Bird\" when released in 1971.<br /><br />(English version)\n",
      "\n",
      "Like with any movie genre, there are good gangster movies and there are bad gangster movies. If you asked me to name a good gangster movie, I'd have dozens to choose from. If you asked me to name a bad gangster movie, probably the first one to pop up in my mind is one that still has me in a sort of depression of disappointment about a week since I saw the film for the first and I promise you, the last time. That film is \"The General\", unrelated to the 1926 silent film of the same name. This is a very dry, very slow gangster epic that raises questions not about the story (it's more than easy to follow) but about why the filmmakers chose to make this rather flimsy endeavor.<br /><br />Like \"Goodfellas\" (1990) and \"American Gangster\" (2007)Â—two superior mob moviesÂ—\"The General\" is based on real people and true events. The film revolves around an Irish criminal named Martin Cahill (Brendan Gleeson) who started his long chain of crimes stealing food as a teenager and then moving up to robbing museums and houses as an adult. Meanwhile, the police led by an inspector named Kenny (Jon Voight) try desperately and vigorously to prove just one of his crimes and convict (or kill) him.<br /><br />Perhaps because it's a film in the same category as the marvelous \"Goodfellas\" (1990) and the first two \"Godfather\" films, I was expecting too much from \"The General.\" But that may be going too easy on it. This would have been a bad film had I not seen the aforementioned masterpieces before being swamped by boredom in this oater and its far-too-stretched running time of screaming bad scenes. Let's start knocking the film by just looking at the style in which it is presented. For some reason, director John Boorman and cinematographer Seamus Deasy selected to film this movie in black-and-white while its style and presentation are clearly the elements that belong to a full-fledged color film. Now I have nothing against b/w pictures, not even ones made in modern-day times. \"Schindler's List\" (1993) was more than ninety percent filmed in black-and-white and it's a masterpiece. \"The General\", made just five years after \"Schindler's List\" is not. The cinematography is also far too blown out with high lighting keys that seem very distracting and give the movie a very video-game-like quality that I found simply annoying. The filmmakers were obviously going for a realist's documentary-like style, like \"Schindler's List\" did, but they fail by making it seem too much like a documentary and at the same time, too much like a classic-style motion picture. Performances in the film range from passable to poor. Brendan Gleeson and Jon Voight gave decent enthusiasm for their roles, but it seemed to me at times that even they were getting kind of run down by the awful screenplay from which they were quoting. The sound design is also very primitive, probably in an attempt to give it a 40s crime-noir appeal, but that also fails because again, it's made too much like a contemporary picture and seems vastly out of place.<br /><br />But the worst thing that occurs is that there's not oneÂ—not oneÂ—character in the film that I felt any emotions or opinions for. In fact, for every moment of every scene, the only thought going through my head was \"okayÂ…so what?\" Moments that in a better film might come across as shocking or appalling are just dull and time-consuming here. I did not sympathize or hate the Brendan Gleeson character because the way the Cahill character is written is simply flat and dull. Gleeson just plays the common criminal and does not strike out with the impact the real Martin Cahill obviously did. If a character is killed off (as they always are in gangster films), we feel nothing. No remorse, no relief, no surprise, nothing. We just say \"so what?\" And that's all I did during the entire running time of this very flimsy, very poorly-made crime film.\n",
      "\n",
      "I watched it with my mom and we were like...<br /><br />What the hell? We didn't get it at all. I may have this wrong, but a chair had something to do with the death of this woman's father. That movie was terrible! This is not a movie for those who love a good suspense movie. Bad suspense movie! *shakes cane at movie* I'm never seeing it again. And I'm a big fan of lifetime movies, too! They kinda need to quit trying to make movies outta books. It's driving me crazy!!!<br /><br />And Whit was butt-ugly and yet, she loves him more than Hugh, who was a TINY bit nicer-looking.<br /><br />My rating: 1/10\n",
      "\n",
      "This movie is probably one of 3 worst movies made in history. I rented this by chance, without reading reviews, and wow, do I regret it. Really has no plot, doesn't really follow the vampire genre. Just plain god awful. Watching this movie will taint your enthusiasm for vampire movies. I felt like the writer/director/producer went on this drug binge and had hallucinations and tried to recreate it on film. Whole time I wanted the movie to end.. but the ending was even more whacked. <br /><br />If this review can save just one person from watching this crap, I felt my time spent on registration and writing this review was well worth it.\n",
      "\n",
      "this movie is quite bad, aggressive, not played well, not directed well, seems low budget, low quality,emotionaly weak and disconnected. after watching earlier comments, went to see it, but if u try to compare it with apocalypse now, PLATOON, or any others, u'r really off the tracks. this movie looks like a 60's old and purely made film with cast of grown neanderthals, not to mention (or actually do), not paying attention to details like changing rounds, low budget fireworks and all sorts of poorly filmed characteristic. is watchable though, if u'd like to see it as an early development of the movies document.. not to go back!!<br /><br />p.s - afterall, the guys are quite alright.\n",
      "\n",
      "And a perfect film to watch during the holiday season as the winter/Xmas atmosphere that Burton creates for Gotham City is way cool. It's weird that Warner decided to release this as a summer film. It doesn't fit.<br /><br />But what's even weirder, when you consider the content of this film, is that it was aimed at families. An upper-class family throws their mutant baby down the sewer, a socio phobic billionaire dresses up in leather as a flying rodent, a lonely secretary dresses up in leather as a feline and a freak runs for political office. And S&M and bondage are presented in a very perverted way. But Burton got away with it. His visual style in this film is at it's best.<br /><br />This and Batman: Dead End are the only true live-action incarnations of the comic-book character. True, the animated series was the closest to the source material, but compared with Batman Forever and the un-nameable one after that, Batman Returns is the best of the four.<br /><br />Darker and more violent than the first movie, the sense of Gothic pathos reaches a new high. I was quite keen on Michael Keaton as Bruce Wayne (don't even get me started on George Clooney!), he displayed the right balance of weirdo loner and cool crime fighter. Michelle Pfieffer is great as Catwoman (much sexier and more 'realisticly' cat-like), she wears that leather outfit better than Halle Berry. And Danny DeVito was so convincing as the Penguin that his scenes became disturbing to watch. And Christopher Walken is brilliant as the spooky Max Shreck (if you think you recognise Chip Shrek it's none other than a very young Leatherface/Butterfinger).<br /><br />Danny Elfman's score is also even better than it was first time round. His powerful and engaging themes are way better than the dross that followed in the later 2 Schumacher movies. This movie is the Batman phenomenon at its Zenith. Forget the following sequels and stick to the animated series after this. Let's hope that Christopher Nolan and Christian Bale can bring some integrity back to the live action Batman with their movie next year.<br /><br />This DVD was one of the first ever DVDs released by Warner (almost 7 years ago!!!) and as a result there are NO features and the case is a snapper. Pick it up cheap like I did and hope for an SE in the future.\n",
      "\n",
      "I like Noel Coward, the wit. I like Noel Coward, the play write. I like Noel Coward, the composer and singer, but I loathe Noel Coward the actor.<br /><br />To me this is a man who should have stayed firmly behind the scenes, writing his plays and composing his music and making his profound and hilarious observations. He should never have been allowed in front of a camera.<br /><br />Make no mistake, he is one of the top outstanding talents of the 20th century but the man just couldn't act, and his voice...with it's rolling R's and it's overly round tonal quality...well it could quite easily grate cheese in my opinion.<br /><br />This is one of my least favourite offerings from Coward, as he unconvincingly portrays a psychiatrist embarking on an affair with a much younger woman, made worse by the fact that the much younger woman is an old school friend of his much younger wife.<br /><br />Celia Johnson is as much a joy to watch as ever as Cowards wronged wife. It is her performance that saves this film from abject dullness. I suppose her own little fling in Coward's Brief Encounter four years previously qualified her for this role as she must have raised a few eyebrows playing a such a promiscuous woman and this gave her the chance to win back a few fans and gain some lost sympathy.<br /><br />She was such a wonderful actress and you can see why Noel Coward used her so much in many of his productions.<br /><br />However the rest of the film is drab, badly acted, predictable and on the whole boring to almost arse-clenching level.<br /><br />If its Noel Coward you want then take the time to watch In Which We Serve, Blythe Spirit or This Happy Breed instead. Three Noel Coward treasures. With lovely films like these I suppose we can forgive him for this turkey.<br /><br />I have given this four stars purely for the addition of Miss Johnson, but on the whole I'd avoid this one like the plague.\n",
      "\n",
      "\"The Days\" is a typical family drama with a little catch - you must relate to the character's emotions in every way possible in order for you to truly appreciate the show.<br /><br />[Possible Spoilers For Those Who Are Unfamiliar With the Show]<br /><br />The story, obviously, for all the people who has watched the show, is the world of Cooper Day, the middle child of the family. He records his days with his family and hopes to become a rich and famous writer one day because of his observations. His family includes a mother, a father, a perfect sister, and a genius-little-brother. The first episode, which is going to sound a bit stupid since John Scott Shepard has created this situation - both the sister and mother gets pregnant. That's the first situation the writer hits. Then the father quits his job at the law firm. The youngest son gets a panic attack. The middle child gets in a fight with the sister's boyfriend. This is all in a day's work.<br /><br />[/Spoilers]<br /><br />I admire this show. I don't know. It's a bit crappy but I like it. First I thought the camera-work was a ripoff but then I got used it and started to like it. I liked the quiet conversations under a dark light. I liked the intimate feeling of the show. I liked the low-budget style. I liked the acting. I admire the story. Then I find myself wanting a second season of The Days. I slowly became a fan of it as the 6-episode airing on ABC came to an end. It's a really good show and it's nothing like The OC. The two have nothing in common. So I hope fans will stop comparing them.<br /><br />And if you can relate to either Abby, Jack, Natalie, Cooper or even Nate, you'll like this show. A lot.\n",
      "\n"
     ]
    }
   ],
   "source": [
    "for i in range (10):\n",
    "    print(df['review'][i])\n",
    "    print()"
   ]
  },
  {
   "cell_type": "code",
   "execution_count": 19,
   "id": "6e294a5e-217b-422c-9915-10ffd59d7ab6",
   "metadata": {},
   "outputs": [],
   "source": [
    "x = df['review']\n",
    "y = df['sentiment']"
   ]
  },
  {
   "cell_type": "code",
   "execution_count": 21,
   "id": "1e316e52-7298-4a6b-b4a1-2be2551c2244",
   "metadata": {},
   "outputs": [],
   "source": [
    "from sklearn.feature_extraction.text import CountVectorizer"
   ]
  },
  {
   "cell_type": "code",
   "execution_count": 23,
   "id": "ef0c19d0-2ff9-41ea-b4ea-a17fcb347af9",
   "metadata": {},
   "outputs": [],
   "source": [
    "df = pd.DataFrame(x)"
   ]
  },
  {
   "cell_type": "code",
   "execution_count": 25,
   "id": "6b7cdda3-692c-466d-9938-3924b93a77e1",
   "metadata": {},
   "outputs": [],
   "source": [
    "vectorizer = CountVectorizer(binary = True, max_features =1000)\n",
    "binary_matrix = vectorizer.fit_transform(df['review'])"
   ]
  },
  {
   "cell_type": "code",
   "execution_count": 26,
   "id": "af268596-bf1e-4db3-a2f1-38de154a8b83",
   "metadata": {},
   "outputs": [],
   "source": [
    "from tensorflow.keras.preprocessing.text import Tokenizer\n",
    "from tensorflow.keras.preprocessing.sequence import pad_sequences"
   ]
  },
  {
   "cell_type": "code",
   "execution_count": 27,
   "id": "a6c5158d-1a84-4394-8dcc-b643d9431fb5",
   "metadata": {},
   "outputs": [],
   "source": [
    "tokenizer = Tokenizer(num_words = 5000)"
   ]
  },
  {
   "cell_type": "code",
   "execution_count": 28,
   "id": "942dad68-bac6-4f32-96d7-db8558f4a84b",
   "metadata": {},
   "outputs": [],
   "source": [
    "x_train,x_test,y_train,y_test = train_test_split(x,y, test_size = 0.20)"
   ]
  },
  {
   "cell_type": "code",
   "execution_count": 29,
   "id": "7c3f330e-2888-4071-a0b4-a6778b02cb35",
   "metadata": {},
   "outputs": [],
   "source": [
    "tokenizer.fit_on_texts(x_train)"
   ]
  },
  {
   "cell_type": "code",
   "execution_count": 30,
   "id": "d0803d6c-b7ac-44bb-b370-ba5f4f2a7cde",
   "metadata": {},
   "outputs": [],
   "source": [
    "vocab_size = len(tokenizer.word_index)+1"
   ]
  },
  {
   "cell_type": "code",
   "execution_count": 31,
   "id": "8f52510d-5913-44d2-a50d-0ea306c56655",
   "metadata": {},
   "outputs": [],
   "source": [
    "def text_encoding(txt):\n",
    "    encoded_docs = tokenizer.texts_to_sequences(txt)\n",
    "    padded_sequences = pad_sequences(encoded_docs, maxlen = 128)\n",
    "    return padded_sequences"
   ]
  },
  {
   "cell_type": "code",
   "execution_count": 32,
   "id": "d1e98011-e21f-4123-85ba-2abbf842a337",
   "metadata": {},
   "outputs": [],
   "source": [
    "x_train = text_encoding(x_train)\n",
    "x_test = text_encoding(x_test)"
   ]
  },
  {
   "cell_type": "code",
   "execution_count": 33,
   "id": "5c3f5005-6339-4e8d-b65d-e37906469a4b",
   "metadata": {},
   "outputs": [
    {
     "data": {
      "text/plain": [
       "111935"
      ]
     },
     "execution_count": 33,
     "metadata": {},
     "output_type": "execute_result"
    }
   ],
   "source": [
    "vocab_size"
   ]
  },
  {
   "cell_type": "code",
   "execution_count": 43,
   "id": "f7694227-fe5d-4901-8dca-db9fd60c9f4a",
   "metadata": {},
   "outputs": [],
   "source": [
    "from keras import Sequential\n",
    "from keras import layers"
   ]
  },
  {
   "cell_type": "code",
   "execution_count": 45,
   "id": "25096b2a-4da0-440a-a3bc-2a90f3abf386",
   "metadata": {},
   "outputs": [
    {
     "name": "stdout",
     "output_type": "stream",
     "text": [
      "shape of x_train: (39975, 128)\n",
      "shape of x_test: (9994, 128)\n"
     ]
    }
   ],
   "source": [
    "print('shape of x_train:', x_train.shape)\n",
    "print('shape of x_test:', x_test.shape)"
   ]
  },
  {
   "cell_type": "code",
   "execution_count": 47,
   "id": "39076ec7-de03-4884-a668-7ea4261c8e65",
   "metadata": {},
   "outputs": [
    {
     "name": "stderr",
     "output_type": "stream",
     "text": [
      "C:\\Users\\USER\\anaconda3\\Lib\\site-packages\\keras\\src\\layers\\core\\embedding.py:90: UserWarning: Argument `input_length` is deprecated. Just remove it.\n",
      "  warnings.warn(\n"
     ]
    }
   ],
   "source": [
    "model = Sequential()\n",
    "model.add(layers.Embedding(vocab_size, 128, input_length = 128))\n",
    "model.add(layers.LSTM(128, return_sequences = True))\n",
    "model.add(layers.Dropout(0.2))\n",
    "model.add(layers.Dense(64, activation = 'relu'))\n",
    "\n",
    "model.add(layers.Dense(1, activation = 'sigmoid'))"
   ]
  },
  {
   "cell_type": "code",
   "execution_count": 64,
   "id": "8458e307-9a32-4be6-8194-78db482eb759",
   "metadata": {},
   "outputs": [],
   "source": [
    "model.compile(loss = 'binary_crossentropy', optimizer = 'adam', metrics = ['accuracy'])"
   ]
  },
  {
   "cell_type": "code",
   "execution_count": 51,
   "id": "53b4b0b4-5cad-4a64-9c3e-906bc14aa172",
   "metadata": {},
   "outputs": [
    {
     "name": "stdout",
     "output_type": "stream",
     "text": [
      "<class 'numpy.ndarray'> <class 'pandas.core.series.Series'>\n"
     ]
    }
   ],
   "source": [
    "print(type(x_train), type(y_train))\n"
   ]
  },
  {
   "cell_type": "code",
   "execution_count": 58,
   "id": "dd9957f0-659b-4b19-ac6f-e718dff024a4",
   "metadata": {},
   "outputs": [
    {
     "name": "stdout",
     "output_type": "stream",
     "text": [
      "Unique labels in y_train: [0 1]\n"
     ]
    }
   ],
   "source": [
    "print(\"Unique labels in y_train:\", np.unique(y_train))\n"
   ]
  },
  {
   "cell_type": "code",
   "execution_count": 68,
   "id": "40ffe193-5261-4af3-bf24-feb105fd13b1",
   "metadata": {
    "scrolled": true
   },
   "outputs": [
    {
     "data": {
      "text/plain": [
       "array([   0,    1,    2, ..., 4997, 4998, 4999])"
      ]
     },
     "execution_count": 68,
     "metadata": {},
     "output_type": "execute_result"
    }
   ],
   "source": [
    "np.unique(x_train)\n"
   ]
  },
  {
   "cell_type": "code",
   "execution_count": 70,
   "id": "f052765e-9486-4a57-86dc-a277ff9f45ce",
   "metadata": {},
   "outputs": [
    {
     "name": "stderr",
     "output_type": "stream",
     "text": [
      "C:\\Users\\USER\\anaconda3\\Lib\\site-packages\\keras\\src\\layers\\core\\dense.py:87: UserWarning: Do not pass an `input_shape`/`input_dim` argument to a layer. When using Sequential models, prefer using an `Input(shape)` object as the first layer in the model instead.\n",
      "  super().__init__(activity_regularizer=activity_regularizer, **kwargs)\n"
     ]
    },
    {
     "name": "stdout",
     "output_type": "stream",
     "text": [
      "Epoch 1/5\n",
      "\u001b[1m1125/1125\u001b[0m \u001b[32m━━━━━━━━━━━━━━━━━━━━\u001b[0m\u001b[37m\u001b[0m \u001b[1m7s\u001b[0m 4ms/step - accuracy: 0.5111 - loss: 118.6492 - val_accuracy: 0.5028 - val_loss: 2.5473\n",
      "Epoch 2/5\n",
      "\u001b[1m1125/1125\u001b[0m \u001b[32m━━━━━━━━━━━━━━━━━━━━\u001b[0m\u001b[37m\u001b[0m \u001b[1m5s\u001b[0m 4ms/step - accuracy: 0.5001 - loss: 1.8650 - val_accuracy: 0.4935 - val_loss: 1.1679\n",
      "Epoch 3/5\n",
      "\u001b[1m1125/1125\u001b[0m \u001b[32m━━━━━━━━━━━━━━━━━━━━\u001b[0m\u001b[37m\u001b[0m \u001b[1m5s\u001b[0m 5ms/step - accuracy: 0.5044 - loss: 1.0519 - val_accuracy: 0.5060 - val_loss: 1.0411\n",
      "Epoch 4/5\n",
      "\u001b[1m1125/1125\u001b[0m \u001b[32m━━━━━━━━━━━━━━━━━━━━\u001b[0m\u001b[37m\u001b[0m \u001b[1m5s\u001b[0m 4ms/step - accuracy: 0.5059 - loss: 0.8921 - val_accuracy: 0.5055 - val_loss: 0.8564\n",
      "Epoch 5/5\n",
      "\u001b[1m1125/1125\u001b[0m \u001b[32m━━━━━━━━━━━━━━━━━━━━\u001b[0m\u001b[37m\u001b[0m \u001b[1m5s\u001b[0m 4ms/step - accuracy: 0.5030 - loss: 0.7967 - val_accuracy: 0.4865 - val_loss: 0.7786\n"
     ]
    },
    {
     "data": {
      "text/plain": [
       "<keras.src.callbacks.history.History at 0x1f79e9a74a0>"
      ]
     },
     "execution_count": 70,
     "metadata": {},
     "output_type": "execute_result"
    }
   ],
   "source": [
    "import numpy as np\n",
    "from tensorflow.keras.models import Sequential\n",
    "from tensorflow.keras.layers import Dense\n",
    "\n",
    "# Check and reshape y_train\n",
    "y_train = np.array(y_train).reshape(-1, 1)  # Ensure it's (num_samples, 1)\n",
    "\n",
    "# Define a simple binary classification model\n",
    "model = Sequential()\n",
    "model.add(Dense(64, activation='relu', input_shape=(x_train.shape[1],)))  # Ensure x_train has the right shape\n",
    "model.add(Dense(1, activation='sigmoid'))  # Binary classification output\n",
    "\n",
    "# Compile the model\n",
    "model.compile(loss='binary_crossentropy', optimizer='adam', metrics=['accuracy'])\n",
    "\n",
    "# Train the model\n",
    "model.fit(x_train, y_train, epochs=5, validation_split=0.1)\n"
   ]
  },
  {
   "cell_type": "code",
   "execution_count": 72,
   "id": "b57bbdcb-7979-4877-a3de-113f68873ec7",
   "metadata": {},
   "outputs": [
    {
     "name": "stdout",
     "output_type": "stream",
     "text": [
      "\u001b[1m313/313\u001b[0m \u001b[32m━━━━━━━━━━━━━━━━━━━━\u001b[0m\u001b[37m\u001b[0m \u001b[1m1s\u001b[0m 3ms/step\n"
     ]
    }
   ],
   "source": [
    "y_pred = model.predict(x_test)"
   ]
  },
  {
   "cell_type": "code",
   "execution_count": 74,
   "id": "6d032414-9eca-4b26-8a5d-6dbd8564853b",
   "metadata": {},
   "outputs": [
    {
     "data": {
      "text/plain": [
       "9994"
      ]
     },
     "execution_count": 74,
     "metadata": {},
     "output_type": "execute_result"
    }
   ],
   "source": [
    "len(y_pred)"
   ]
  },
  {
   "cell_type": "code",
   "execution_count": 76,
   "id": "03057fcd-10ef-4dd6-be95-bd110d7f4068",
   "metadata": {},
   "outputs": [
    {
     "data": {
      "text/plain": [
       "9994"
      ]
     },
     "execution_count": 76,
     "metadata": {},
     "output_type": "execute_result"
    }
   ],
   "source": [
    "len(y_test)"
   ]
  },
  {
   "cell_type": "code",
   "execution_count": 80,
   "id": "1678f3f4-517f-48ae-af02-e86c3ee75175",
   "metadata": {},
   "outputs": [],
   "source": [
    "y_pred = [np.argmax(1) for i in y_pred]"
   ]
  },
  {
   "cell_type": "code",
   "execution_count": 82,
   "id": "06c94e6a-c86c-44ac-b32b-12c573722d71",
   "metadata": {},
   "outputs": [
    {
     "data": {
      "text/plain": [
       "0"
      ]
     },
     "execution_count": 82,
     "metadata": {},
     "output_type": "execute_result"
    }
   ],
   "source": [
    "y_pred[0]"
   ]
  },
  {
   "cell_type": "code",
   "execution_count": 86,
   "id": "098f1fbc-34e5-4ce1-b5a5-1356f7beabde",
   "metadata": {},
   "outputs": [],
   "source": [
    "from sklearn.metrics import confusion_matrix, classification_report, accuracy_score"
   ]
  },
  {
   "cell_type": "code",
   "execution_count": 88,
   "id": "4eac1daa-4f0c-4b54-b865-0945885b839c",
   "metadata": {},
   "outputs": [
    {
     "data": {
      "text/plain": [
       "0.5007004202521513"
      ]
     },
     "execution_count": 88,
     "metadata": {},
     "output_type": "execute_result"
    }
   ],
   "source": [
    "accuracy_score(y_test,y_pred)"
   ]
  },
  {
   "cell_type": "markdown",
   "id": "bc83cae2-4f1a-4e93-9a30-123e68024cdd",
   "metadata": {},
   "source": [
    "Confusion_matrix"
   ]
  },
  {
   "cell_type": "code",
   "execution_count": 90,
   "id": "29a2b40b-71c5-4d83-b333-cb83ff3cb254",
   "metadata": {},
   "outputs": [
    {
     "data": {
      "text/plain": [
       "<Axes: >"
      ]
     },
     "execution_count": 90,
     "metadata": {},
     "output_type": "execute_result"
    },
    {
     "data": {
      "image/png": "[encoded data removed]",
      "text/plain": [
       "<Figure size 500x400 with 2 Axes>"
      ]
     },
     "metadata": {},
     "output_type": "display_data"
    }
   ],
   "source": [
    "plt.figure(figsize = (5,4))\n",
    "sns.heatmap(confusion_matrix(y_test, y_pred), annot =True, fmt = 'd')"
   ]
  },
  {
   "cell_type": "code",
   "execution_count": 92,
   "id": "cd84c137-5198-46b1-81ea-8b00563807c8",
   "metadata": {},
   "outputs": [
    {
     "name": "stdout",
     "output_type": "stream",
     "text": [
      "              precision    recall  f1-score   support\n",
      "\n",
      "           0       0.50      1.00      0.67      5004\n",
      "           1       0.00      0.00      0.00      4990\n",
      "\n",
      "    accuracy                           0.50      9994\n",
      "   macro avg       0.25      0.50      0.33      9994\n",
      "weighted avg       0.25      0.50      0.33      9994\n",
      "\n"
     ]
    },
    {
     "name": "stderr",
     "output_type": "stream",
     "text": [
      "C:\\Users\\USER\\anaconda3\\Lib\\site-packages\\sklearn\\metrics\\_classification.py:1509: UndefinedMetricWarning: Precision is ill-defined and being set to 0.0 in labels with no predicted samples. Use `zero_division` parameter to control this behavior.\n",
      "  _warn_prf(average, modifier, f\"{metric.capitalize()} is\", len(result))\n",
      "C:\\Users\\USER\\anaconda3\\Lib\\site-packages\\sklearn\\metrics\\_classification.py:1509: UndefinedMetricWarning: Precision is ill-defined and being set to 0.0 in labels with no predicted samples. Use `zero_division` parameter to control this behavior.\n",
      "  _warn_prf(average, modifier, f\"{metric.capitalize()} is\", len(result))\n",
      "C:\\Users\\USER\\anaconda3\\Lib\\site-packages\\sklearn\\metrics\\_classification.py:1509: UndefinedMetricWarning: Precision is ill-defined and being set to 0.0 in labels with no predicted samples. Use `zero_division` parameter to control this behavior.\n",
      "  _warn_prf(average, modifier, f\"{metric.capitalize()} is\", len(result))\n"
     ]
    }
   ],
   "source": [
    "print(classification_report(y_test, y_pred))"
   ]
  },
  {
   "cell_type": "code",
   "execution_count": null,
   "id": "170774f1-9c05-440e-8403-a72eeb8a1a27",
   "metadata": {},
   "outputs": [],
   "source": []
  }
 ],
 "metadata": {
  "kernelspec": {
   "display_name": "Python 3 (ipykernel)",
   "language": "python",
   "name": "python3"
  },
  "language_info": {
   "codemirror_mode": {
    "name": "ipython",
    "version": 3
   },
   "file_extension": ".py",
   "mimetype": "text/x-python",
   "name": "python",
   "nbconvert_exporter": "python",
   "pygments_lexer": "ipython3",
   "version": "3.12.4"
  }
 },
 "nbformat": 4,
 "nbformat_minor": 5
}
